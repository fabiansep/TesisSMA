{
  "nbformat": 4,
  "nbformat_minor": 0,
  "metadata": {
    "colab": {
      "provenance": [],
      "authorship_tag": "ABX9TyM2LJVYkrqj8hmi1GW2vxbO",
      "include_colab_link": true
    },
    "kernelspec": {
      "name": "python3",
      "display_name": "Python 3"
    },
    "language_info": {
      "name": "python"
    }
  },
  "cells": [
    {
      "cell_type": "markdown",
      "metadata": {
        "id": "view-in-github",
        "colab_type": "text"
      },
      "source": [
        "<a href=\"https://colab.research.google.com/github/fabiansep/TesisSMA/blob/main/graph.ipynb\" target=\"_parent\"><img src=\"https://colab.research.google.com/assets/colab-badge.svg\" alt=\"Open In Colab\"/></a>"
      ]
    },
    {
      "cell_type": "code",
      "execution_count": 10,
      "metadata": {
        "id": "w9skqS2iIMtw"
      },
      "outputs": [],
      "source": [
        "import pandas as pd\n",
        "from google.cloud import storage\n",
        "from google.colab import userdata\n",
        "from google.colab import drive\n",
        "from google.colab import auth\n",
        "from google.cloud import storage\n",
        "import io\n"
      ]
    },
    {
      "cell_type": "code",
      "source": [
        "auth.authenticate_user()"
      ],
      "metadata": {
        "id": "q7FgHMjVJHfY"
      },
      "execution_count": 2,
      "outputs": []
    },
    {
      "cell_type": "code",
      "source": [
        "# Configura el cliente de Google Cloud Storage\n",
        "client = storage.Client()"
      ],
      "metadata": {
        "id": "xXpgY_3aIeXU"
      },
      "execution_count": 4,
      "outputs": []
    },
    {
      "cell_type": "code",
      "source": [
        "# Define el nombre del bucket\n",
        "bucket_name = 'tesis_data'\n",
        "bucket = client.get_bucket(bucket_name)"
      ],
      "metadata": {
        "id": "HBT5EdwWJQ6Q"
      },
      "execution_count": 5,
      "outputs": []
    },
    {
      "cell_type": "code",
      "source": [
        "# Función para leer CSV desde una carpeta específica del bucket\n",
        "def read_csv_from_gcs(bucket, folder):\n",
        "    blobs = bucket.list_blobs(prefix=folder)\n",
        "    df_list = []\n",
        "    for blob in blobs:\n",
        "        if blob.name.endswith('.csv'):\n",
        "            # Descarga el archivo CSV a un DataFrame\n",
        "            content = blob.download_as_text()\n",
        "            df = pd.read_csv(io.StringIO(content))  # Cambiado a io.StringIO\n",
        "            df_list.append(df)\n",
        "    return pd.concat(df_list, ignore_index=True)"
      ],
      "metadata": {
        "id": "5yf5oij5JVHc"
      },
      "execution_count": 8,
      "outputs": []
    },
    {
      "cell_type": "code",
      "source": [
        "# Leer los archivos desde ambas carpetas\n",
        "df_optical_depth = read_csv_from_gcs(bucket, 'comunas')"
      ],
      "metadata": {
        "id": "8IyvcJeoJXNk"
      },
      "execution_count": 11,
      "outputs": []
    },
    {
      "cell_type": "code",
      "source": [
        "df_temperatura = read_csv_from_gcs(bucket, 'temperatura')"
      ],
      "metadata": {
        "id": "ASDmHZqhJZV9"
      },
      "execution_count": 12,
      "outputs": []
    },
    {
      "cell_type": "code",
      "source": [
        "# Unir los DataFrames utilizando las columnas comunes\n",
        "df_merged = pd.merge(\n",
        "    df_optical_depth,\n",
        "    df_temperatura,\n",
        "    on=['Comuna', 'Region', 'fecha_desde', 'fecha_hasta'],\n",
        "    suffixes=('_optical_depth', '_temperatura')\n",
        ")\n"
      ],
      "metadata": {
        "id": "vS-1yLgrJa96"
      },
      "execution_count": 13,
      "outputs": []
    },
    {
      "cell_type": "code",
      "source": [
        "\n",
        "# Mantener solo las columnas necesarias\n",
        "df_final = df_merged[['Comuna', 'Region', 'fecha_desde', 'fecha_hasta', 'valor_medio_optical_depth_047', 'valor_medio_temperatura']]\n",
        "\n",
        "# Mostrar el resultado final\n",
        "print(df_final.head())"
      ],
      "metadata": {
        "colab": {
          "base_uri": "https://localhost:8080/"
        },
        "id": "IR_b3ixiJcbd",
        "outputId": "c897aeaf-e238-491f-f853-5889d1002b08"
      },
      "execution_count": 14,
      "outputs": [
        {
          "output_type": "stream",
          "name": "stdout",
          "text": [
            "  Comuna                            Region fecha_desde fecha_hasta  \\\n",
            "0  Alhué  Región Metropolitana de Santiago  2000-01-01  2000-01-07   \n",
            "1  Alhué  Región Metropolitana de Santiago  2000-01-08  2000-01-14   \n",
            "2  Alhué  Región Metropolitana de Santiago  2000-01-15  2000-01-21   \n",
            "3  Alhué  Región Metropolitana de Santiago  2000-01-22  2000-01-28   \n",
            "4  Alhué  Región Metropolitana de Santiago  2000-01-29  2000-02-04   \n",
            "\n",
            "   valor_medio_optical_depth_047  valor_medio_temperatura  \n",
            "0                            NaN                      NaN  \n",
            "1                            NaN                      NaN  \n",
            "2                            NaN                      NaN  \n",
            "3                            NaN                      NaN  \n",
            "4                            NaN                      NaN  \n"
          ]
        }
      ]
    },
    {
      "cell_type": "code",
      "source": [
        "df_final.to_csv('df_final.csv', index=False)"
      ],
      "metadata": {
        "id": "oJD4E3yEQxH1"
      },
      "execution_count": 15,
      "outputs": []
    },
    {
      "cell_type": "code",
      "source": [
        "def save_df_to_gcs(df, bucket, file_path):\n",
        "    # Convertir el DataFrame a CSV en memoria\n",
        "    csv_buffer = io.StringIO()\n",
        "    df.to_csv(csv_buffer, index=False)\n",
        "\n",
        "    # Crear un blob en el bucket\n",
        "    blob = bucket.blob(file_path)\n",
        "\n",
        "    # Subir el contenido CSV al blob\n",
        "    blob.upload_from_string(csv_buffer.getvalue(), content_type='text/csv')\n",
        "\n",
        "# Definir la ruta del archivo en la raíz del bucket\n",
        "file_path = 'df_final.csv'  # Solo el nombre del archivo, ya que lo guardarás en la raíz\n",
        "\n",
        "# Guardar el DataFrame en el bucket\n",
        "save_df_to_gcs(df_final, bucket, file_path)\n"
      ],
      "metadata": {
        "id": "qVQzTc6SdTVP"
      },
      "execution_count": 16,
      "outputs": []
    }
  ]
}